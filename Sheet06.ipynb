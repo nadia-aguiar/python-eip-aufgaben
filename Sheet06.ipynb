{
 "cells": [
  {
   "cell_type": "markdown",
   "metadata": {},
   "source": [
    "## Aufgabe 01 A ##"
   ]
  },
  {
   "cell_type": "code",
   "execution_count": 9,
   "metadata": {},
   "outputs": [
    {
     "data": {
      "text/plain": [
       "9"
      ]
     },
     "execution_count": 9,
     "metadata": {},
     "output_type": "execute_result"
    }
   ],
   "source": [
    "x = 5 #Jupyter liest diese Variable als global\n",
    "def linear(m, b):\n",
    "    x = 7 # x wird hier überschrieben\n",
    "    return m * x + b"
   ]
  },
  {
   "cell_type": "markdown",
   "metadata": {},
   "source": [
    "## Aufgabe 01 B ##"
   ]
  },
  {
   "cell_type": "code",
   "execution_count": 2,
   "metadata": {},
   "outputs": [
    {
     "name": "stdout",
     "output_type": "stream",
     "text": [
      "hi\n",
      "from\n",
      "my\n",
      "list\n"
     ]
    }
   ],
   "source": [
    "# Falscher Code:\n",
    "my_list = [\"hi\", \"from\", \"my\", \"list\"]                        \n",
    "\n",
    "i = 1 \n",
    "\n",
    "while i <= len(my_list): #len() gibt 4 zurück. Da my_list aber nur Indizes von 0 bis 3 hat (und 4 größer ist als 3),\n",
    "                       #gibt es bei my_list[4] einen IndexError. Um es zu fixen, müsste in der While-Bedingung \n",
    "                       #das Kleiner-Gleich durch ein Strikt-Kleiner-Als ersetzt werden.\n",
    "    print(my_list[i])\n",
    "    i += 1\n",
    "    \n",
    "# Richtiger Code\n",
    "\n",
    "my_list = [\"hi\", \"from\", \"my\", \"list\"]                                        \n",
    "\n",
    "i = 0 # i soll wohl ein Index sein (der aber hochgezählt ist).\n",
    "while i < len(my_list):  \n",
    "    print(my_list[i])\n",
    "    i += 1"
   ]
  },
  {
   "cell_type": "markdown",
   "metadata": {},
   "source": [
    "## Aufgabe 02 ##"
   ]
  },
  {
   "cell_type": "code",
   "execution_count": 3,
   "metadata": {},
   "outputs": [],
   "source": [
    "def miles_to_kilometer():\n",
    "    distance = float(input(\"What is the distance? \"))\n",
    "    miles_to_kilometer = distance * 1.609344\n",
    "    print(f\"{distance} miles = {miles_to_kilometer} km. \")\n",
    "        \n",
    "def kilometer_to_miles():\n",
    "    distance = float(input(\"What is the distance? \"))\n",
    "    kilometer_to_miles = distance / 1.609344\n",
    "    print(f\"{distance} km = {kilometer_to_miles} miles. \")\n",
    "        \n",
    "def distance_converter():\n",
    "    to_miles = float(input(\"Your distance is (1)miles or (2)kilometer? \"))  \n",
    "    if to_miles == 1:\n",
    "         miles_to_kilometer()\n",
    "        \n",
    "    if to_miles == 2:\n",
    "          kilometer_to_miles() "
   ]
  },
  {
   "cell_type": "code",
   "execution_count": 4,
   "metadata": {},
   "outputs": [
    {
     "name": "stdout",
     "output_type": "stream",
     "text": [
      "Your distance is (1)miles or (2)kilometer? 1\n",
      "What is the distance? 19\n",
      "19.0 miles = 30.577536000000002 km. \n"
     ]
    }
   ],
   "source": [
    "distance_converter()"
   ]
  },
  {
   "cell_type": "markdown",
   "metadata": {},
   "source": [
    "## Aufgabe 03 ##"
   ]
  },
  {
   "cell_type": "code",
   "execution_count": 27,
   "metadata": {},
   "outputs": [],
   "source": [
    "import numpy as np\n",
    "\n",
    "def add():\n",
    "    u = np.array([2, 3])\n",
    "    v = np.array([1,7])\n",
    "    total = u+v\n",
    "    print(f\"Die Addition ist:{total}\") \n",
    "    \n",
    "def scalar_multiplication():\n",
    "    u = ([5, 6])\n",
    "    s = 3\n",
    "    multiplication = np.multiply(u, s)\n",
    "    print(f\"Die Multiplikation ist:{multiplication}\")\n",
    "    \n",
    "def inner_product():\n",
    "    u = np.array([2, 3])\n",
    "    v = np.array([1,7])\n",
    "    inner_total = np.inner(u, v)\n",
    "    print(f\"Das innere Produkt ist:{inner_total}\" )\n",
    "    \n",
    "def cross_product():\n",
    "    u = np.array([2,3])\n",
    "    v = np.array([1,7])\n",
    "    cross_total = np.cross(u, v)\n",
    "    print(f\"Das Kreuzprodukt ist: {cross_total}\")   \n",
    "    "
   ]
  },
  {
   "cell_type": "code",
   "execution_count": 28,
   "metadata": {},
   "outputs": [
    {
     "name": "stdout",
     "output_type": "stream",
     "text": [
      "Die Addition ist:[ 3 10]\n",
      "Die Multiplikation ist:[15 18]\n",
      "Das inneres Produkt ist:23\n",
      "Das kreuzprodukt ist: 11\n"
     ]
    }
   ],
   "source": [
    "add()\n",
    "scalar_multiplication()\n",
    "inner_product()\n",
    "cross_product()"
   ]
  },
  {
   "cell_type": "markdown",
   "metadata": {},
   "source": [
    "## Aufgabe 04 ##"
   ]
  },
  {
   "cell_type": "code",
   "execution_count": 4,
   "metadata": {},
   "outputs": [
    {
     "name": "stdout",
     "output_type": "stream",
     "text": [
      "Bitte geben Sie die Länge der Liste ein10\n",
      "Unsortiert:\n",
      "31\n",
      "75\n",
      "36\n",
      "100\n",
      "94\n",
      "93\n",
      "50\n",
      "81\n",
      "75\n",
      "93\n",
      "\n",
      "Sortiert:\n",
      "31\n",
      "36\n",
      "50\n",
      "75\n",
      "75\n",
      "81\n",
      "93\n",
      "93\n",
      "94\n",
      "100\n"
     ]
    }
   ],
   "source": [
    "import random\n",
    "\n",
    "# Lege eine Länge fest\n",
    "arrayLength = int(input(\"Bitte geben Sie die Länge der Liste ein: \"))\n",
    "l = [None] * arrayLength\n",
    "#Belege den Array mit Zufallszahlen:\n",
    "print(\"Unsortiert:\")\n",
    "j = 0\n",
    "while j <= (arrayLength-1):\n",
    "    l[j] = random.randint(1,100)\n",
    "    print(l[j])\n",
    "    j += 1\n",
    "\n",
    "print(\"\")\n",
    "print(\"Sortiert:\")\n",
    "    \n",
    "# Der Algorithmus:\n",
    "def sort(l):\n",
    "    lengthFromZero = (len(l)-1)\n",
    "    i = 0\n",
    "    while i <= lengthFromZero:\n",
    "        if i == 0: \n",
    "            i += 1\n",
    "        if l[i] >= l[i-1]: \n",
    "            i += 1\n",
    "        else: #[tausche l[i] mit l[i-1]]\n",
    "            swap = l[i]\n",
    "            l[i] =l [i-1]\n",
    "            l[i-1] = swap\n",
    "            #einen Schritt nach links\n",
    "            i -= 1\n",
    "    \n",
    "# Gib den sortierten Array aus\n",
    "sort(l)\n",
    "k = 0\n",
    "while k <= (arrayLength - 1):\n",
    "    print(l[k])\n",
    "    k += 1"
   ]
  },
  {
   "cell_type": "code",
   "execution_count": null,
   "metadata": {},
   "outputs": [],
   "source": []
  }
 ],
 "metadata": {
  "kernelspec": {
   "display_name": "Python 3 (ipykernel)",
   "language": "python",
   "name": "python3"
  },
  "language_info": {
   "codemirror_mode": {
    "name": "ipython",
    "version": 3
   },
   "file_extension": ".py",
   "mimetype": "text/x-python",
   "name": "python",
   "nbconvert_exporter": "python",
   "pygments_lexer": "ipython3",
   "version": "3.8.10"
  }
 },
 "nbformat": 4,
 "nbformat_minor": 4
}
