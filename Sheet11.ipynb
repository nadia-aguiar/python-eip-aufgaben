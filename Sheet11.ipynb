{
 "cells": [
  {
   "cell_type": "markdown",
   "id": "359df24b",
   "metadata": {},
   "source": [
    "# Aufgabe 1"
   ]
  },
  {
   "cell_type": "code",
   "execution_count": 1,
   "id": "951d9132",
   "metadata": {},
   "outputs": [],
   "source": [
    "#Code aus Aufgabe\n",
    "\n",
    "student = (\"Kai\", \"Musterperson\", 23445456, [\"EIP\", \"DESA\", \"TGI\"], [1,3,4])\n",
    "\n",
    "def get_name_student (student):\n",
    "    return student[0] + \" \" + student [1]\n",
    "\n",
    "def get_matnumber_student (student):\n",
    "    return student[2]\n",
    "\n",
    "def get_courses_and_grades_student (student):\n",
    "    for (course, grade) in zip (student[3], student[4]):\n",
    "        print (f\"Got a {grade} in {course}\")\n",
    "    "
   ]
  },
  {
   "cell_type": "code",
   "execution_count": 2,
   "id": "5ef08695",
   "metadata": {},
   "outputs": [
    {
     "name": "stdout",
     "output_type": "stream",
     "text": [
      "Got a 1 in EIP\n",
      "Got a 3 in DESA\n",
      "Got a 4 in TGI\n",
      "<__main__.StudentsInfos object at 0x7fed682743d0>\n"
     ]
    }
   ],
   "source": [
    "#Code objektorientierte Korrektur\n",
    "\n",
    "\n",
    "student = (\"Kai\", \"Musterperson\", 23445456, [\"EIP\", \"DESA\", \"TGI\"], [1,3,4])\n",
    "\n",
    "class StudentsInfos:\n",
    "    def __init__(self):\n",
    "        self.name_student = student[0] + \" \" + student [1]\n",
    "        self.matnumber_student = student[2]\n",
    "        \n",
    "        for (course, grade) in zip (student[3], student[4]):\n",
    "            print((f\"Got a {grade} in {course}\")) \n",
    "            \n",
    "student_kai = StudentsInfos() # zum Ausprobieren\n",
    "print(student_kai) # auch zum Ausprobieren"
   ]
  },
  {
   "cell_type": "markdown",
   "id": "6f75b839",
   "metadata": {},
   "source": [
    "# Aufgabe 2"
   ]
  },
  {
   "cell_type": "code",
   "execution_count": 4,
   "id": "592f605f",
   "metadata": {},
   "outputs": [
    {
     "name": "stdout",
     "output_type": "stream",
     "text": [
      "8\n"
     ]
    }
   ],
   "source": [
    "\n",
    "liste = [5, 6, 7, 8, 9] #zum ausprobieren\n",
    "\n",
    "data = 7 #auch zum ausprobieren\n",
    "\n",
    "class Entry:\n",
    "    def __init__(self):\n",
    "        \"\"\"Initialisiere\"\"\"\n",
    "        data_index = liste.index(data)\n",
    "        self.data = liste[data_index]\n",
    "        \n",
    "        left_index = data_index - 1\n",
    "        self.left = liste[left_index]\n",
    "        \n",
    "        right_index = data_index + 1\n",
    "        self.right = liste[right_index]\n",
    "    \n",
    "eintrag = Entry() # zum ausprobieren\n",
    "print (eintrag.right) # auch zum ausprobieren"
   ]
  },
  {
   "cell_type": "markdown",
   "id": "2ce48166",
   "metadata": {},
   "source": [
    "# Aufgabe 3"
   ]
  },
  {
   "cell_type": "code",
   "execution_count": null,
   "id": "55c1b352",
   "metadata": {},
   "outputs": [],
   "source": [
    "list1 = []\n",
    "list2 = [1,2,3]\n",
    "list3 = [4,5]\n",
    "list4 = [3,1,4,1]\n",
    "\n",
    "def test_DoublyLinkedList:\n",
    "    \"\"\"Zum Testen\"\"\"\n",
    "    assert list1.isEmpty() == True\n",
    "    assert list2.isEmpty() == False\n",
    "    assert list1.append(1) == [1]\n",
    "    assert list2.append(4) == [1,2,3,4]\n",
    "    assert list1.remove(1) == []\n",
    "    assert list1.remove(1) == [2,3]\n",
    "    assert list4.remove(1) == [3,4,1]\n",
    "    assert list1.size() == 0\n",
    "    assert list2.size() == 3\n",
    "    assert list1.collect() == \"Die Liste enthält keine Elemente\" # evtl auch denkbar: return [] - ist das sinnvoller?\n",
    "    assert list2.collect() == [1,2,3]"
   ]
  },
  {
   "cell_type": "markdown",
   "id": "011ee114",
   "metadata": {},
   "source": [
    "# Aufgabe 4"
   ]
  },
  {
   "cell_type": "code",
   "execution_count": null,
   "id": "86d40cd9",
   "metadata": {},
   "outputs": [],
   "source": [
    "class DoublyLinkedList:\n",
    "    \n",
    "    \"\"\"Beliebigen Ausgaben von einer Liste\"\"\"\n",
    "    \n",
    "    def __init__(self):\n",
    "        \"\"\"Initialisiere\"\"\"\n",
    "        self.liste = [1, 25, 63, 200, 8, 8] # zum Ausprobieren\n",
    "        \n",
    "    def select_element(self):\n",
    "        \"\"\"Gibt erstes und letztes Element zurück\"\"\"\n",
    "        start_node = self.liste[0]\n",
    "        last_node = self.liste[-1]\n",
    "        return start_node, last_node\n",
    "        \n",
    "    def is_empty(self):\n",
    "        \"\"\"Gibt zurück, ob die Liste leer ist\"\"\"\n",
    "        liste = DoublyLinkedList()\n",
    "        if len(self.liste) == 0:\n",
    "            return False\n",
    "        else:\n",
    "            return True\n",
    "            \n",
    "    def append_element(self, x):\n",
    "        \"\"\"Fügt hinten an der Liste ein gegebenes Element an\"\"\"\n",
    "        self.liste.append(x)\n",
    "        return self.liste\n",
    "\n",
    "    def remove_element(self, y):\n",
    "        \"\"\"Löscht ein gegebenes Element (bzw das chronologisch erste Vorkommnis dessen)\"\"\"\n",
    "        if self.liste.count(y) > 1:\n",
    "            first_index = self.liste.index(y)\n",
    "            list_1 = self.liste[:first_index + 1]\n",
    "            list_2 = self.liste[first_index + 1:]\n",
    "            list_1.remove(y)\n",
    "            list_1.extend(list_2)\n",
    "            self.liste = list_1\n",
    "        else:\n",
    "            self.liste.remove(y)\n",
    "        return self.liste\n",
    "            \n",
    "    def size_liste (self):\n",
    "        \"\"\"Gibt die Anzahl der Elemente der Liste zurück\"\"\"\n",
    "        liste = DoublyLinkedList()\n",
    "        return len(self.liste)\n",
    "\n",
    "    def collect_liste(self):\n",
    "        \"\"\"Gibt die Elemente der Liste in einer Liste zurück\"\"\"\n",
    "        liste = list(self.liste)\n",
    "        return liste\n",
    "\n",
    "\n",
    "d = DoublyLinkedList()   \n",
    "#help(DoublyLinkedList)"
   ]
  },
  {
   "cell_type": "markdown",
   "id": "43b3bf9f",
   "metadata": {},
   "source": [
    "## Aufgabe 4 - A"
   ]
  },
  {
   "cell_type": "code",
   "execution_count": null,
   "id": "4b34bfc7",
   "metadata": {},
   "outputs": [],
   "source": [
    "print(d.select_element())"
   ]
  },
  {
   "cell_type": "markdown",
   "id": "4badb2ce",
   "metadata": {},
   "source": [
    "## Aufgabe 4 - B"
   ]
  },
  {
   "cell_type": "code",
   "execution_count": null,
   "id": "60a674c9",
   "metadata": {},
   "outputs": [],
   "source": [
    "print(d.append_element(6))\n",
    "\n",
    "print(d.is_empty()) \n",
    "\n",
    "print(d.remove_element(8))\n",
    "\n",
    "print(d.size_liste())\n",
    "\n",
    "print(d.collect_liste())"
   ]
  }
 ],
 "metadata": {
  "kernelspec": {
   "display_name": "Python 3 (ipykernel)",
   "language": "python",
   "name": "python3"
  },
  "language_info": {
   "codemirror_mode": {
    "name": "ipython",
    "version": 3
   },
   "file_extension": ".py",
   "mimetype": "text/x-python",
   "name": "python",
   "nbconvert_exporter": "python",
   "pygments_lexer": "ipython3",
   "version": "3.8.10"
  }
 },
 "nbformat": 4,
 "nbformat_minor": 5
}
