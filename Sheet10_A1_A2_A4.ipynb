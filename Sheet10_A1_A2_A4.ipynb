{
 "cells": [
  {
   "cell_type": "code",
   "execution_count": 1,
   "metadata": {},
   "outputs": [],
   "source": [
    "#1a)\n",
    "\n",
    "def  factorial(n):\n",
    "    \"\"\"\n",
    "    :return die factorial Werte von einer beliegibe Zahl\n",
    "    \n",
    "    \"\"\"\n",
    "    return n * factorial (n-1)\n",
    "\n",
    "# In dieser Code bekommen wir ein \"RecursionError: maximum recursion depth exceeded\", \n",
    "#weil wie den Code geschrieben wurde,läuft er durch einer Endlosrekursion. \n",
    "#D.h dass \"n\" nie auf einen Basisfall zurück kommem würde.Das zu vermeiden, braucht der Code \n",
    "#eine if-Bedingung, der Basiszahl deklariert und die Ausnahmenfälle, wie 0 z.B eindecken dass die Rekursion \n",
    "#bei 1 beendt."
   ]
  },
  {
   "cell_type": "code",
   "execution_count": 2,
   "metadata": {},
   "outputs": [],
   "source": [
    "#1b)\n",
    "\n",
    "def flattern():\n",
    "    \"\"\"\n",
    "    eine einzige liste von elementen einer Liste von Sublisten.\n",
    "    :return flat_list\n",
    "    \n",
    "    \"\"\"\n",
    "    nested_list = [ [ 1 ,  2 ,  5] ,  [3 ,  2] ,  [1 ,  4 ,  5 ,  9 ] ]\n",
    "    flat_list = []\n",
    "    for sublist in nested_list:\n",
    "        for item in sublist:\n",
    "            flat_list.append(item)\n",
    "    return flat_list\n",
    "        "
   ]
  },
  {
   "cell_type": "code",
   "execution_count": 3,
   "metadata": {},
   "outputs": [
    {
     "data": {
      "text/plain": [
       "[1, 2, 5, 3, 2, 1, 4, 5, 9]"
      ]
     },
     "execution_count": 3,
     "metadata": {},
     "output_type": "execute_result"
    }
   ],
   "source": [
    "flattern()"
   ]
  },
  {
   "cell_type": "code",
   "execution_count": 4,
   "metadata": {},
   "outputs": [
    {
     "ename": "IndexError",
     "evalue": "list index out of range",
     "output_type": "error",
     "traceback": [
      "\u001b[0;31m---------------------------------------------------------------------------\u001b[0m",
      "\u001b[0;31mIndexError\u001b[0m                                Traceback (most recent call last)",
      "\u001b[0;32m<ipython-input-4-a5fe972890af>\u001b[0m in \u001b[0;36m<module>\u001b[0;34m\u001b[0m\n\u001b[1;32m     44\u001b[0m \u001b[0;34m\u001b[0m\u001b[0m\n\u001b[1;32m     45\u001b[0m \u001b[0;34m\u001b[0m\u001b[0m\n\u001b[0;32m---> 46\u001b[0;31m \u001b[0mrecursion\u001b[0m \u001b[0;34m(\u001b[0m\u001b[0mmatrikel_numbers\u001b[0m\u001b[0;34m,\u001b[0m \u001b[0;36m10\u001b[0m\u001b[0;34m)\u001b[0m \u001b[0;31m#Testlauf mit Matrikelnummer\u001b[0m\u001b[0;34m\u001b[0m\u001b[0;34m\u001b[0m\u001b[0m\n\u001b[0m\u001b[1;32m     47\u001b[0m \u001b[0;34m\u001b[0m\u001b[0m\n\u001b[1;32m     48\u001b[0m \u001b[0;34m\u001b[0m\u001b[0m\n",
      "\u001b[0;32m<ipython-input-4-a5fe972890af>\u001b[0m in \u001b[0;36mrecursion\u001b[0;34m(liste, your_number)\u001b[0m\n\u001b[1;32m     41\u001b[0m         \u001b[0mnew_list\u001b[0m \u001b[0;34m=\u001b[0m \u001b[0mliste\u001b[0m\u001b[0;34m[\u001b[0m\u001b[0mint_len\u001b[0m\u001b[0;34m:\u001b[0m\u001b[0;34m]\u001b[0m\u001b[0;34m\u001b[0m\u001b[0;34m\u001b[0m\u001b[0m\n\u001b[1;32m     42\u001b[0m \u001b[0;34m\u001b[0m\u001b[0m\n\u001b[0;32m---> 43\u001b[0;31m     \u001b[0;32mreturn\u001b[0m \u001b[0mrecursion\u001b[0m\u001b[0;34m(\u001b[0m\u001b[0mnew_list\u001b[0m\u001b[0;34m,\u001b[0m \u001b[0mcurrent_mat_nr\u001b[0m\u001b[0;34m)\u001b[0m\u001b[0;34m\u001b[0m\u001b[0;34m\u001b[0m\u001b[0m\n\u001b[0m\u001b[1;32m     44\u001b[0m \u001b[0;34m\u001b[0m\u001b[0m\n\u001b[1;32m     45\u001b[0m \u001b[0;34m\u001b[0m\u001b[0m\n",
      "\u001b[0;32m<ipython-input-4-a5fe972890af>\u001b[0m in \u001b[0;36mrecursion\u001b[0;34m(liste, your_number)\u001b[0m\n\u001b[1;32m     30\u001b[0m \u001b[0;34m\u001b[0m\u001b[0m\n\u001b[1;32m     31\u001b[0m     \u001b[0;31m#Matrikelnummer von mittlerem Index ausgeben lassen\u001b[0m\u001b[0;34m\u001b[0m\u001b[0;34m\u001b[0m\u001b[0;34m\u001b[0m\u001b[0m\n\u001b[0;32m---> 32\u001b[0;31m     \u001b[0mcurrent_mat_nr\u001b[0m \u001b[0;34m=\u001b[0m \u001b[0;34m(\u001b[0m\u001b[0mliste\u001b[0m \u001b[0;34m[\u001b[0m\u001b[0mmiddle_index\u001b[0m\u001b[0;34m]\u001b[0m\u001b[0;34m)\u001b[0m\u001b[0;34m\u001b[0m\u001b[0;34m\u001b[0m\u001b[0m\n\u001b[0m\u001b[1;32m     33\u001b[0m \u001b[0;34m\u001b[0m\u001b[0m\n\u001b[1;32m     34\u001b[0m     \u001b[0;32mif\u001b[0m \u001b[0mcurrent_mat_nr\u001b[0m \u001b[0;34m==\u001b[0m \u001b[0myour_number\u001b[0m \u001b[0;34m:\u001b[0m\u001b[0;34m\u001b[0m\u001b[0;34m\u001b[0m\u001b[0m\n",
      "\u001b[0;31mIndexError\u001b[0m: list index out of range"
     ]
    }
   ],
   "source": [
    "#Aufgabe 2\n",
    "\n",
    "#Rekursionslimit\n",
    "import sys\n",
    "sys.setrecursionlimit(100)\n",
    "\n",
    "#dictionary mit Matrikelnummern & Noten zum ausprobieren:\n",
    "\n",
    "results_dic = { 10 : 1 , 11 : 2 , 13 : 3, 14 : 4, 15 : 5}\n",
    "\n",
    "matrikel_numbers = [10, 11, 12, 13, 14, 15]\n",
    "\n",
    "\n",
    "#a) Rekursion\n",
    "\n",
    "#Mittleren Wert der Liste finden\n",
    "\n",
    "def recursion (liste, your_number): #funktioniert nur für gerade Listenzahlen richtig\n",
    "    \"\"\"\n",
    "    Searches for matrikel number in a list of numbers\n",
    "    Returns grade of that matrikel number.\"\"\"\n",
    "    \n",
    "    #Mittleren Wert der liste finden\n",
    "    if len(liste) % 2 == 0 :\n",
    "        middle_index = (len(liste) // 2)\n",
    "    else:\n",
    "        middle_index = (len(liste) + 1) // 2\n",
    "    \n",
    "    int_len = int(len(liste))       #Länge der Liste in integer konvertieren\n",
    "    \n",
    "    #Matrikelnummer von mittlerem Index ausgeben lassen\n",
    "    current_mat_nr = (liste [middle_index])\n",
    "    \n",
    "    if current_mat_nr == your_number : \n",
    "        return print(results_dic[your_number])\n",
    "  \n",
    "    if current_mat_nr < your_number :  #neue Listen aus den Hälften erstellen\n",
    "        new_list = liste[:int_len]        \n",
    "\n",
    "    else :\n",
    "        new_list = liste[int_len:]\n",
    "        \n",
    "    return recursion(new_list, current_mat_nr)\n",
    "\n",
    "    \n",
    "recursion (matrikel_numbers, 10) #Testlauf mit Matrikelnummer\n",
    "\n",
    "\n"
   ]
  },
  {
   "cell_type": "code",
   "execution_count": null,
   "metadata": {},
   "outputs": [],
   "source": [
    "\n",
    "#Aufgabe 2b) Iteration\n",
    "\n",
    "results_dic = { 10 : 1 , 11 : 2 , 13 : 3, 14 : 4, 15 : 5}\n",
    "\n",
    "matrikel_numbers = [10, 11, 12, 13, 14, 15]\n",
    "\n",
    "def iteration(your_number):\n",
    "    while your_number in range (10,12):\n",
    "        your_number = your_number + 1 \n",
    "        print(your_number)\n",
    "\n",
    "\n",
    "iteration(1)\n"
   ]
  },
  {
   "cell_type": "code",
   "execution_count": 118,
   "metadata": {},
   "outputs": [
    {
     "name": "stdout",
     "output_type": "stream",
     "text": [
      "[505, 182, 603, 899, 327, 224, 947, 547, 122, 987, 680, 49, 919, 700, 749, 308, 455, 299, 569, 304]\n",
      "[603, 327, 987]\n"
     ]
    }
   ],
   "source": [
    "#Aufgabe 4a\n",
    "import random\n",
    "import math\n",
    "\n",
    "def random_nummers():\n",
    "    \"\"\"\n",
    "    20 zufälligen Zählen zwiechen 1 und 1000\n",
    "    return die Liste\n",
    "    \"\"\"\n",
    "    first = [random.randint(1,1000) for i in range(20)]\n",
    "    return first\n",
    "\n",
    "\n",
    "\n",
    "def teilbar_drei(first):\n",
    "    \"\"\"gibt eine Liste mit denen Zählen die duvidiert durch 3, das Rest ist null\n",
    "    :return die Liste mit denen Werten\n",
    "    \"\"\"\n",
    "    first = random_nummers()\n",
    "    print(first)\n",
    "    second = [x for x in first if x %3 == 0]\n",
    "    return second\n",
    "\n",
    "\n",
    "#first = random_nummers()\n",
    "#teilbar_drei(first)\n",
    "#print(random_nummers())\n",
    "print(teilbar_drei(random_nummers()))\n",
    "\n"
   ]
  },
  {
   "cell_type": "code",
   "execution_count": 111,
   "metadata": {},
   "outputs": [
    {
     "data": {
      "text/plain": [
       "['Tommy Atkins',\n",
       " 'Fred Bloggs',\n",
       " 'Alice Bloggs',\n",
       " 'Jane Graph',\n",
       " 'Polly Graph',\n",
       " 'Jane Roe',\n",
       " 'Joe Shmoe',\n",
       " 'Joe Shmoe',\n",
       " 'Jack Sixpack',\n",
       " 'Alan Smithee',\n",
       " 'Lukas Smithee']"
      ]
     },
     "execution_count": 111,
     "metadata": {},
     "output_type": "execute_result"
    }
   ],
   "source": [
    "#Aufgabe 4b\n",
    "def sort_studenten():\n",
    "    \"\"\"\n",
    "    sortiert eine Liste durch Nachnamen der Studenten\n",
    "    :return die sortiert Liste\n",
    "    \"\"\"\n",
    "   \n",
    "    course = {\"eip\": [(123456, \"Alan Smithee\"), \n",
    "                      (123455, \"Jane Graph\"), \n",
    "                      (145612, \"Joe Shmoe\")],\n",
    "              \n",
    "              \"eis\": [(122345, \"Fred Bloggs\"), \n",
    "                      (211459, \"Tommy Atkins\"), \n",
    "                      (128763, \"Jane Roe\"),\n",
    "                      (215682, \"Jack Sixpack\")],\n",
    "              \n",
    "              \"bigdata\": [(249845, \"Polly Graph\"), \n",
    "                          (204752, \"Lukas Smithee\"), \n",
    "                          (234518, \"Joe Shmoe\"),\n",
    "                          (258215, \"Alice Bloggs\")]}\n",
    "    \n",
    "    list_student = [v for k, v in course[\"eip\"]] + [v for k, v in course[\"eis\"]] + [v for k, v in course[\"bigdata\"]]  \n",
    "    \n",
    "    return sorted(list_student, key = lambda x:x.split( )[1])\n",
    "     \n",
    "        \n",
    "sort_studenten()"
   ]
  },
  {
   "cell_type": "code",
   "execution_count": 112,
   "metadata": {},
   "outputs": [],
   "source": [
    "#Aufgabe 4c\n",
    "\n",
    "from functools import reduce\n",
    "\n",
    "def random_zahl():\n",
    "    \"\"\"\n",
    "    Eine Liste von Zählen zwischen -5 und 4\n",
    "    :return Liste\n",
    "    \"\"\"\n",
    "    liste_zahl = [x for x in range(-5, 5)]\n",
    "    return liste_zahl\n",
    "\n",
    "def filter_zahl(liste_zahl):\n",
    "    \"\"\"\n",
    "    Eine Liste nur mit positiven Zählen\n",
    "    :return gefilterte Liste\n",
    "    \n",
    "    \"\"\"\n",
    "    filtered = list(filter(lambda liste_zahl: liste_zahl > 0, liste_zahl))\n",
    "\n",
    "    return filtered\n",
    "\n",
    "def inverse_zahl(filter_zahl):\n",
    "    \"\"\"\n",
    "    eine liste mit inversen Zählen von bestimmten Nummers\n",
    "    :return inversed Zählen Liste\n",
    "    \"\"\"\n",
    "    inverse = list(map(lambda x: 1/x , filter_zahl))\n",
    "    return inverse\n",
    "\n",
    "def summer (a, b):\n",
    "    \"\"\"\n",
    "    addieren 2 elemente\n",
    "    :return die Summer\n",
    "    \n",
    "    \"\"\"\n",
    "    return a + b\n",
    "    \n",
    "def summer_reduce(inverse_zahl):\n",
    "    \"\"\"\n",
    "    mit reduce Python-Funktion addieren Zählen von einer belibiege Funktion\n",
    "    :return reduced Liste\n",
    "    \"\"\"\n",
    "    return reduce(summer, inverse_zahl)\n",
    "    \n",
    "    \n",
    "\n",
    "\n",
    "#liste_zahl = random_zahl()\n",
    "#print(filter_zahl(liste_zahl))\n",
    "#print(inverse_zahl(filter_zahl(liste_zahl)))\n",
    "#summer_reduce(inverse_zahl(filter_zahl(liste_zahl)))"
   ]
  }
 ],
 "metadata": {
  "kernelspec": {
   "display_name": "Python 3 (ipykernel)",
   "language": "python",
   "name": "python3"
  },
  "language_info": {
   "codemirror_mode": {
    "name": "ipython",
    "version": 3
   },
   "file_extension": ".py",
   "mimetype": "text/x-python",
   "name": "python",
   "nbconvert_exporter": "python",
   "pygments_lexer": "ipython3",
   "version": "3.8.10"
  }
 },
 "nbformat": 4,
 "nbformat_minor": 4
}
