{
 "cells": [
  {
   "cell_type": "markdown",
   "id": "a22275d8",
   "metadata": {},
   "source": [
    "# Aufgabe 1"
   ]
  },
  {
   "cell_type": "code",
   "execution_count": null,
   "id": "fd55fff8",
   "metadata": {},
   "outputs": [],
   "source": [
    "#1 def fill_list_a(my_list, number):\n",
    "#2     for i in range(len(my_list)):\n",
    "#3         my_list[i] = number\n",
    "#4\n",
    "#5 def fill_list_b(length, number):\n",
    "#6     ret_list = []\n",
    "#7     for _ in range(length):\n",
    "#8         ret_list.append(number)\n",
    "#9\n",
    "#10    return ret_list\n",
    "#11\n",
    "#12 def fill_list_c(my_list, number):\n",
    "#13     for i in range (len(my_list)):\n",
    "#14         my_list[i] = number\n",
    "#15     return my_list\n"
   ]
  },
  {
   "cell_type": "code",
   "execution_count": 4,
   "id": "bd9de69d",
   "metadata": {},
   "outputs": [
    {
     "name": "stdout",
     "output_type": "stream",
     "text": [
      "0\n",
      "0\n",
      "0\n",
      "0\n"
     ]
    }
   ],
   "source": [
    "test_list = [1,2,3,4]\n",
    "def fill_list_a(my_list, number):\n",
    "    for i in range(len(my_list)):\n",
    "         my_list[i] = number\n",
    "\n",
    "fill_list_a(test_list, 0)\n",
    "\n",
    "for j in range(len(test_list)):\n",
    "    x = test_list[j]\n",
    "    print(x)\n",
    "# Printet 4 Nullen"
   ]
  },
  {
   "cell_type": "markdown",
   "id": "d15aff45",
   "metadata": {},
   "source": [
    "**fill_list_a** nimmmt als Parameter my_list entgegen und füllt alle Einträge dieser Liste mit der Zahl auf (was auch das Ersetzen bisheriger Einträge bedeuten kann), die als Parameter mit eingegeben wurde.\n",
    "\n",
    "**fill_list_b** nimmt dagegen eine Länge und eine Zahl entgegen, erstellt eine neue Liste (anstatt eine gegebene zu bearbeiten) und füllt diese Liste mit der als Parameter eingegebenen Zahl\n",
    "\n",
    "**fill_list_c** nimmt wie **a** eine Liste my_list und eine Zahl als Parameter, füllt genau wie **a** alle Einträge von der übergegebenen Liste mit der eingegebenen Zahl auf (was auch das Ersetzen bisheriger Einträge bedeuten kann) und gibt die nun veränderte Liste my_list als Rückgabewert.\n",
    "\n",
    "\n",
    "\n",
    "\n",
    "\n",
    "**Was ist potentiell überaus gefährlich?**\n",
    "Um ehrlich zu sein, ich bin nicht sicher. Dass die Laufvariable in **fill_list_b** nicht i oder j oder irgendwas, sondern _ genannt wurde, sieht mindestens nach schlechtem Stil aus und könnte insofern vielleicht später schwierig werden, als dass spätere Pythonversionen das vielleicht nicht mehr unterstützen - was beim Programmieren selbst vielleicht kein Problem ist; aber nehmen wir an, der Code läuft in der aktuellen Version (vielleicht in einem Flugzeug oder was weiß ich), wird nicht regelmäßig gewartet aber das Flugzeug bekommt eine neue Version von Python, die das nicht mehr erlaubt -- \"Bumm!\"? Wäre zumindest denkbar.\n",
    "\n",
    "Oder, auch schlecht: jemand sieht die merkwürdige Laufvariable nicht und denkt fälschlicherweise, dass die Funktion kaputt ist, entfernt daraufhin die Funktion, die aber eigentlich aus welchen Gründen auch immer für den Quellcode wichtig ist (vielleicht irgendwas anonymisieren oder so was?) - \"Bumm!\"\n",
    "\n",
    "\n",
    "Dagegen tut **fill_list_a** zumindest auf den ersten Blick erst mal nichts - sie hat keinen Rückgabewert, sondern ersetzt (vermutlich) nur intern innerhalb der Funktion my_list durch eine Liste mit der gleichen eingegeben Zahl.\n",
    "\n",
    "Das tut **fill_list_c** zwar auch, gibt aber die veränderte Liste als Rückgabewert aus.\n",
    "\n",
    "Ich kann mir vorstellen, dass **fill_list_c** bei schlechter Dokumentation schief laufen könnte, wenn jemand beispielsweise aus Versehen die Funktion auf eine Liste anwendet, die man nicht auf diese Art und Weise verändern sollte und der Fehler vielleicht nicht bemerkt wird. \n",
    "\n",
    "ANDERERSEITS hat **fill_list_a** die gleichen Probleme und man sieht ihr vom Code erst mal nicht unbedingt an, dass sie my_list global verändert, anstatt nur innerhalb der Funktion (ich zumindest musste es ausprobieren). Bei **fill_list_c** dagegen sieht man wenigstens sofort, dass my_list verändert wird. Von daher ist wahrscheinlich **fill_list_a** recht problematisch (es sei denn, man dokumentiert vernünftig in beispielsweise Kommentaren, dass die Funktion im Quellcode die Liste verändert)\n",
    "\n",
    "Ich kann mir gut vorstellen, dass sowohl **fill_list_b** (aus evtl wartungstechnischer Hinsicht, aber vielleicht täusche ich mich auch) als auch **fill_list_a** (wegen nicht-offensichtlicher Veränderung von der Liste my_list innerhalb des globalen Quellcodes) gefährlich werden könnten - was genau gefährlicher ist, ist vermutlich Einschätzungssache; ich persönlich tendiere zu **fill_list_a** (also, dass **fill_list_a** am gefährlichsten ist), bin mir aber nicht ganz sicher. "
   ]
  },
  {
   "cell_type": "markdown",
   "id": "128d5f31",
   "metadata": {},
   "source": [
    "# Aufgabe 2"
   ]
  },
  {
   "cell_type": "code",
   "execution_count": null,
   "id": "db53de21",
   "metadata": {},
   "outputs": [],
   "source": [
    "#Aufgabe 2\n",
    "#1. Listen aus Dateien einlesen               \n",
    "def read_file_triplets_list():    \n",
    "    triplets_list = [ ]\n",
    "    with open ( './Sheet07_data/triplets.txt' , 'r' ) as infile :\n",
    "    #with open ( r'\\Users\\user\\Documents\\cmder/triplets.txt' , 'r' ) as infile :\n",
    "        for line in infile:\n",
    "            triplets_list.append (line)\n",
    "        return triplets_list\n",
    "def read_file_amino_acids_list():    \n",
    "    amino_acids_list = [ ]\n",
    "    with open ( './Sheet07_data/amino_acids.txt' , 'r' ) as infile :\n",
    "    #with open ( r'\\Users\\user\\Documents\\cmder/amino_acids.txt' , 'r' ) as infile :\n",
    "        for line in infile:\n",
    "            amino_acids_list.append(line)\n",
    "        return amino_acids_list\n",
    "        \n",
    "def read_file_triplet_sequence():\n",
    "    triplet_sequence = [ ]\n",
    "    with open ('./Sheet07_data/triplet_sequence.txt' , 'r' ) as infile :\n",
    "    #with open ( r'\\Users\\user\\Documents\\cmder/triplet_sequence.txt' , 'r' ) as infile :\n",
    "        for line in infile:\n",
    "            triplet_sequence.append(line)\n",
    "        return triplet_sequence\n",
    "        \n",
    "        \n",
    "triplets_list = read_file_triplets_list()\n",
    "amino_acids_list = read_file_amino_acids_list()\n",
    "triplet_sequence = read_file_triplet_sequence()\n",
    "\n",
    "#2. Dictionary erstellen\n",
    "def generate_translation_dict(triplets, amino_acids): \n",
    "    zip_iterator = zip(triplets, amino_acids)\n",
    "    dictionary = dict(zip_iterator)\n",
    "    return (dictionary)\n",
    "\n",
    "dictionary = generate_translation_dict(triplets_list, amino_acids_list)\n",
    "#print(dictionary)\n",
    "\n",
    "#3. Übersetzt Liste von Triplets in Aminosäuren\n",
    "def triplets_to_aa(triplet, translation_dict):\n",
    "    aa_sequence = translation_dict[triplet]\n",
    "    return aa_sequence\n",
    "\n",
    "for counter in range(len(triplet_sequence)):\n",
    "    print(triplets_to_aa(triplet_sequence[counter], dictionary))\n",
    "    \n",
    "#4. Protein: \n",
    "# Das Obige gibt die Aminosäuren, allerdings getrennt durch eine Leerzeile. \n",
    "# Man kann diese Ausgabe kopieren, in eine Textdatei packen; und dann das folgende Programm drüber laufen lassen:\n",
    "def read_file():    \n",
    "    characters = []\n",
    "    with open ( './FileWithNewlines.txt' , 'r' ) as infile :\n",
    "        newline_break = \"\"\n",
    "        for readline in infile:\n",
    "            line_strip = readline.strip()\n",
    "            newline_break += line_strip\n",
    "        print(newline_break)\n",
    "\n",
    "read_file()\n",
    "# Man kann natürlich die Absätze auch händisch wegmachen. So oder so erhält man schließlich diese Aminosäurensequenz:\n",
    "# MFVFLVLLPLVSSQCVNLTTRTQLPPAYTNSFTRGVYYPDKVFRSSVLHSTQDLFLPFFSNVTWFHAIHVSGTNGTKRFDNPVLPFNDGVYFASTEKSNIIRGWIFGTTLDSKTQSLLIVNNATNVVIKVCEFQFCNDPFLGVYYHKNNKSWMESEFRVYSSANNCTFEYVSQPFLMDLEGKQGNFKNLREFVFKNIDGYFKIYSKHTPINLVRDLPQGFSALEPLVDLPIGINITRFQTLLALHRSYLTPGDSSSGWTAGAAAYYVGYLQPRTFLLKYNENGTITDAVDCALDPLSETKCTLKSFTVEKGIYQTSNFRVQPTESIVRFPNITNLCPFGEVFNATRFASVYAWNRKRISNCVADYSVLYNSASFSTFKCYGVSPTKLNDLCFTNVYADSFVIRGDEVRQIAPGQTGKIADYNYKLPDDFTGCVIAWNSNNLDSKVGGNYNYLYRLFRKSNLKPFERDISTEIYQAGSTPCNGVEGFNCYFPLQSYGFQPTNGVGYQPYRVVVLSFELLHAPATVCGPKKSTNLVKNKCVNFNFNGLTGTGVLTESNKKFLPFQQFGRDIADTTDAVRDPQTLEILDITPCSFGGVSVITPGTNTSNQVAVLYQDVNCTEVPVAIHADQLTPTWRVYSTGSNVFQTRAGCLIGAEHVNNSYECDIPIGAGICASYQTQTNSPRRARSVASQSIIAYTMSLGAENSVAYSNNSIAIPTNFTISVTTEILPVSMTKTSVDCTMYICGDSTECSNLLLQYGSFCTQLNRALTGIAVEQDKNTQEVFAQVKQIYKTPPIKDFGGFNFSQILPDPSKPSKRSFIEDLLFNKVTLADAGFIKQYGDCLGDIAARDLICAQKFNGLTVLPPLLTDEMIAQYTSALLAGTITSGWTFGAGAALQIPFAMQMAYRFNGIGVTQNVLYENQKLIANQFNSAIGKIQDSLSSTASALGKLQDVVNQNAQALNTLVKQLSSNFGAISSVLNDILSRLDKVEAEVQIDRLITGRLQSLQTYVTQQLIRAAEIRASANLAATKMSECVLGQSKRVDFCGKGYHLMSFPQSAPHGVVFLHVTYVPAQEKNFTTAPAICHDGKAHFPREGVFVSNGTHWFVTQRNFYEPQIITTDNTFVSGNCDVVIGIVNNTVYDPLQPELDSFKEELDKYFKNHTSPDVDLGDISGINASVVNIQKEIDRLNEVAKNLNESLIDLQELGKYEQYIKWPWYIWLGFIAGLIAIVMVTIMLCCMTSCCSCLKGCCSCGSCCKFDEDDSEPVLKGVKLHYT_\n",
    "# Wenn man diese in die Datenbank eingibt, erhält man das SARS-CoV-2-Spike-Protein,\n",
    "# welches wichtig für die Impfstoff-Entwicklung ist."
   ]
  },
  {
   "cell_type": "markdown",
   "id": "b846b6a8",
   "metadata": {},
   "source": [
    "# Aufgabe 3\n",
    "## a"
   ]
  },
  {
   "cell_type": "code",
   "execution_count": 13,
   "id": "d0b02310",
   "metadata": {},
   "outputs": [
    {
     "name": "stdout",
     "output_type": "stream",
     "text": [
      "False\n"
     ]
    }
   ],
   "source": [
    "import random\n",
    "\n",
    "def get_random_birthday():\n",
    "    return random.randint(0,364)\n",
    "\n",
    "def has_same_birthday(birthday_list):\n",
    "    i = 0\n",
    "    j = 0\n",
    "    for i in range (len(birthday_list)):\n",
    "        for j in range (i+1, len(birthday_list)):\n",
    "            if birthday_list[i] == birthday_list[j]:\n",
    "                return True\n",
    "    return False"
   ]
  },
  {
   "cell_type": "markdown",
   "id": "0c3af88c",
   "metadata": {},
   "source": [
    "## b"
   ]
  },
  {
   "cell_type": "code",
   "execution_count": 5,
   "id": "ba03a1ba",
   "metadata": {},
   "outputs": [
    {
     "data": {
      "image/png": "[encoded data removed]",
      "text/plain": [
       "<Figure size 432x288 with 1 Axes>"
      ]
     },
     "metadata": {
      "needs_background": "light"
     },
     "output_type": "display_data"
    }
   ],
   "source": [
    "import random\n",
    "import matplotlib.pyplot as plt\n",
    "\n",
    "def get_random_birthday():\n",
    "    return random.randint(0,364)\n",
    "\n",
    "def has_same_birthday(birthday_list):\n",
    "    # Code hier\n",
    "    i = 0\n",
    "    j = 0\n",
    "    for i in range (len(birthday_list)):\n",
    "        for j in range (i+1, len(birthday_list)):\n",
    "            if birthday_list[i] == birthday_list[j]:\n",
    "                return True\n",
    "    return False\n",
    "\n",
    "## Codegerüst\n",
    "trials = 1000\n",
    "max_number_of_persons = 100\n",
    "\n",
    "fractions = []\n",
    "for number_persons in range(max_number_of_persons):\n",
    "    counter = 0.0\n",
    "    for i in range(trials):\n",
    "        birthdays = []\n",
    "        for j in range(number_persons):\n",
    "            birthdays.append(get_random_birthday())\n",
    "            if has_same_birthday(birthdays):\n",
    "                counter += 1.0\n",
    "    \n",
    "    fractions.append(counter / trials)\n",
    "\n",
    "### Das unten ist der \"sortierte\" Code.\n",
    "### Leider funktioniert er nicht (es werden bei fractions an jeder Stelle von fractions nur Nullen ausgegeben)\n",
    "### und ich muss sagen, dass ich weder den Fehler finde, noch den gegebenen Code aus der Aufgabenstellung so \n",
    "### wirklich verstehe. Da mein Code offensichtlich fehlerhaft ist, habe ich ihn auskommentiert.\n",
    "### Ich habe aber den Verdacht, dass der gegebene Code aus der Aufgabenstellung auch so ein bisschen\n",
    "### merkwürdig ist.\n",
    "\n",
    "##def collect_birthdays(number_persons, counter, birthdays):\n",
    "    ##for j in range(number_persons):\n",
    "        ##birthdays.append(get_random_birthday())\n",
    "        ##if has_same_birthday(birthdays):\n",
    "            ##counter += 1.0\n",
    "\n",
    "##def collect_trial_results(trials, counter):\n",
    "    ##for i in range(trials):\n",
    "        ##birthdays = []\n",
    "        ##collect_birthdays(number_persons, counter, birthdays)\n",
    "    \n",
    "##trials = 1000\n",
    "##max_number_of_persons = 100\n",
    "\n",
    "##fractions = []\n",
    "##for number_persons in range(1, (max_number_of_persons + 1)):\n",
    "    ##counter = 0.0\n",
    "    ##collect_trial_results(trials, counter)\n",
    "    ##fractions.append(counter / trials)\n",
    "\n",
    "## print(fractions) ## Das hier ist zum Testen    \n",
    "####### Aufgabe c\n",
    "## Unter der Annahme, dass in fractions korrekte Daten sind (was nicht der Fall zu sein scheint)\n",
    "## sollte hier (vermutlich? vielleicht habe ich auch etwas missverstanden) auf der y-Achse die Wahrscheinlichkeit\n",
    "## der gemeinsamen Geburtstage sein, auf der x-Achse die Anzahl der Personen.\n",
    "## Eigentlich sollte (je nachdem wie eng oder weit man \"so gut wie sicher\" fasst), ab 50 Personen \n",
    "#(97% Wahrscheinlichkeit laut Wikipedia), ab 60 Personen (99,4% Wahrscheinlichkeit laut Wikipedia) \n",
    "#oder 70 Personen (99,9% Wahrscheinlichkeit laut Wikipedia) es \"so gut wie sicher\" sein, dass mindestens zwei\n",
    "# Leute den gleichen Geburtstag haben.\n",
    "# Die Grafik passt irgendwie gar nicht mit der aus Wikipedia zusammen, was merkwürdig ist,\n",
    "# da hier ja gerade das Codegerüst verwendet wird; und ich es so verstanden habe; dass der Code an sich korrekt ist\n",
    "# und das tut, was er soll und \"lediglich\" übersichtlicher gemacht werden soll.\n",
    "# Vielleicht habe ich den Code auch nicht verstanden und sollte noch irgendetwas Anderes machen, anstatt\n",
    "# fractions in die y-Achse zu schreiben.\n",
    "# Ich weiß es nicht. \n",
    "x_achse = [1] * 100\n",
    "\n",
    "for i in range(len(x_achse)):\n",
    "    x_achse[i] = i+1\n",
    "\n",
    "#print(x_achse)\n",
    "y_achse = fractions\n",
    "plt.plot(x_achse, y_achse)\n",
    "plt.show()"
   ]
  }
 ],
 "metadata": {
  "kernelspec": {
   "display_name": "Python 3 (ipykernel)",
   "language": "python",
   "name": "python3"
  },
  "language_info": {
   "codemirror_mode": {
    "name": "ipython",
    "version": 3
   },
   "file_extension": ".py",
   "mimetype": "text/x-python",
   "name": "python",
   "nbconvert_exporter": "python",
   "pygments_lexer": "ipython3",
   "version": "3.8.10"
  }
 },
 "nbformat": 4,
 "nbformat_minor": 5
}
