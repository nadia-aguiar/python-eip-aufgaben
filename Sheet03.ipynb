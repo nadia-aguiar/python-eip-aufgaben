{
 "cells": [
  {
   "cell_type": "markdown",
   "id": "de420487",
   "metadata": {},
   "source": [
    "# Aufgabe 1\n",
    "\n",
    "Algorithmus (aufsteigend sortiert)\n",
    "\n",
    "* Lese erste Variable ein.\n",
    "* Setzte erste Variable auf eine Position.\n",
    "* Lese zweite Variable ein.\n",
    "* Wenn zweite Variable größer als erste Variable, setzte auf eine Position danach, ansonsten auf eine Position davor.\n",
    "* Lese dritte Variable ein.\n",
    "* Setzte dritte Variale zwischen erste und zweite Variable.\n",
    "* Wenn dritte Variable kleiner als auf Position davor stehende Variable, verschiebe eine Position nach vorne auf die erste Position, ansonsten verschiebe eine Position nach hinten auf die dritte Position.\n",
    "\n",
    "Maximal benötigte Wenn-Abfragen: 2\n",
    "\n",
    "\n",
    "Möglichkeiten die 3 Variablen anzuordnen (ohne Wiederholungen): 6 \n",
    "\n",
    "(xyz, xzy, yxz, yzx, zxy, zyx)"
   ]
  },
  {
   "cell_type": "markdown",
   "id": "a73a73ef",
   "metadata": {},
   "source": [
    "# Aufgabe 2"
   ]
  },
  {
   "cell_type": "code",
   "execution_count": 1,
   "id": "202ae824",
   "metadata": {},
   "outputs": [
    {
     "name": "stdout",
     "output_type": "stream",
     "text": [
      "Summe:  16\n",
      "Division:  3.0\n",
      "Ganzzahldivision:  3\n",
      "Rest:  0\n"
     ]
    }
   ],
   "source": [
    "y = 12\n",
    "z = 4\n",
    "sumXy = y+z\n",
    "division = y/z\n",
    "intDivision = y//z\n",
    "remainder = y%z\n",
    "print(\"Summe: \" ,f\"{sumXy}\")\n",
    "print(\"Division: \" ,f\"{division}\")\n",
    "print(\"Ganzzahldivision: \" ,f\"{intDivision}\")\n",
    "print(\"Rest: \" ,f\"{remainder}\")"
   ]
  },
  {
   "cell_type": "markdown",
   "id": "cfaa5ddb",
   "metadata": {},
   "source": [
    "Gegeben y=12 und z=4 haben y, z, sumXy, intDivision und remainder den Datentyp int und nur division den Datentyp float.\n",
    "\n",
    "Ist z=4.0, so ändert sich der Datentyp von (jeweils) z, sumXy, intDivision und remainder (und zwar von int auf float) und sumXy erhält nun den Wert 16.0 anstatt 16, intDivision den Wert 3.0 anstatt 3 und remainder den Wert 0.0 anstatt 0.\n",
    "\n",
    "Ist z=4.5, so ändern sich (im Vergleich zu z=4.0) nur die Werte, aber nicht die Datentypen. Die Variable sumXy hat nun den Wert 16.5 statt 16.0; division den Wert 2.6666666666666665 statt 3.0; intDivision den Wert 2.0 anstatt 3.0, und remainder den Wert 3.0 anstatt 0.0"
   ]
  },
  {
   "cell_type": "markdown",
   "id": "b2f1dd78",
   "metadata": {},
   "source": [
    "# Aufgabe 3\n",
    "## a\n",
    "Ich habe den Code so geschrieben:"
   ]
  },
  {
   "cell_type": "code",
   "execution_count": 2,
   "id": "4f6b25f9",
   "metadata": {},
   "outputs": [
    {
     "name": "stdout",
     "output_type": "stream",
     "text": [
      "Eine Lösung: x1 =  0.0\n"
     ]
    }
   ],
   "source": [
    "import math\n",
    "\n",
    "a = 1\n",
    "if a == 0:\n",
    "    print(\"Ungültiges a\")\n",
    "else:\n",
    "    b = 0\n",
    "    c = 0\n",
    "    radikant = ((b**2) - (4*a*c))\n",
    "    if  (radikant < 0):\n",
    "        print(\"keine reellen Lösungen\")\n",
    "    else:\n",
    "        if (math.sqrt(radikant) == 0):\n",
    "            x1 = ((-b)/(2*a))\n",
    "            print(\"Eine Lösung: x1 = \",f\"{x1}\")\n",
    "        else:\n",
    "            x1 = ((-b)+(math.sqrt(radikant)))/(2*a)\n",
    "            x2 = ((-b)-(math.sqrt(radikant)))/(2*a)\n",
    "            print(\"Zwei Lösungen: \")\n",
    "            print(\"x1 = \",f\"{x1}\")\n",
    "            print(\"x2 = \",f\"{x2}\")"
   ]
  },
  {
   "cell_type": "markdown",
   "id": "f75f2c78",
   "metadata": {},
   "source": [
    "und bei keiner Lösung, einer Lösung und zwei Lösungen kommt jeweils genau das heraus, was ich programmiert habe (bei keiner Lösung die Ausgabe \"keine reellen Lösungen\", bei einer Lösung (beispielsweise) die Ausgabe \"Eine Lösung: x1 = 0.0\" und bei zwei Lösungen (beispielsweise) die Ausgabe \"Zwei Lösungen:\n",
    "\n",
    "x1 = 1.0\n",
    "\n",
    "x2 = -1.0\"\n",
    "\n",
    "\n",
    "Wenn ich den Code naiver schreiben würde, \n",
    "(also etwa so)\n",
    "\n",
    "    import math\n",
    "\n",
    "    a = 1\n",
    "    b = 0\n",
    "    c = 1\n",
    "    radikant = ((b**2) - (4*a*c))\n",
    "\n",
    "    x1 = ((-b)+(math.sqrt(radikant)))/(2*a)\n",
    "    x2 = ((-b)-(math.sqrt(radikant)))/(2*a)\n",
    "    print(\"Lösungen: \")\n",
    "    print(\"x1 = \",f\"{x1}\")\n",
    "    print(\"x2 = \",f\"{x2}\")\n",
    "\n",
    "erhielte man bei keiner Lösung eine Fehlermeldung \"ValueError: math domain error\", weil man aus negativen Zahlen keine Wurzel ziehen darf. Bei einer Lösung würde beiden Lösungsvariablen der gleiche Wert zugewiesen werden (nicht unbedingt falsch; aber je nach Perspektive evtl unnötig und damit ein Pragmatik-Fehler). Bei zwei Lösungen würden wie gewünscht zwei unterschiedliche Lösungen angezeigt werden. Außerdem erhielte man bei a=0 eine Fehlermeldung (\"ZeroDivisionError: float division by zero\"), weil man durch Null teilen würde.\n",
    "Ich habe den Code deshalb nicht ausführbar gemacht, weil er diese Fehler hat (und wieso sollte man fehlerhaften Code ausführbar machen?).\n",
    "\n",
    "## b"
   ]
  },
  {
   "cell_type": "code",
   "execution_count": null,
   "id": "0ebe151e",
   "metadata": {},
   "outputs": [],
   "source": [
    "import math\n",
    "\n",
    "a = int(input(\"Bitte geben Sie ein a ungleich 0 ein\"))\n",
    "if a == 0:\n",
    "    print(\"Ungültiges a\")\n",
    "else:\n",
    "    b = int(input(\"Bitte geben Sie ein b ein\"))\n",
    "    c = int(input(\"Bitte geben Sie ein c ein\"))\n",
    "    radikant = ((b**2) - (4*a*c))\n",
    "    if  (radikant < 0):\n",
    "        print(\"keine reellen Lösungen\")\n",
    "    else:\n",
    "        if (math.sqrt(radikant) == 0):\n",
    "            x1 = ((-b)/(2*a))\n",
    "            print(\"Eine Lösung: x1 = \",f\"{x1}\")\n",
    "        else:\n",
    "            x1 = ((-b)+(math.sqrt(radikant)))/(2*a)\n",
    "            x2 = ((-b)-(math.sqrt(radikant)))/(2*a)\n",
    "            print(\"Zwei Lösungen: \")\n",
    "            print(\"x1 = \",f\"{x1}\")\n",
    "            print(\"x2 = \",f\"{x2}\")"
   ]
  },
  {
   "cell_type": "markdown",
   "id": "61f68022",
   "metadata": {},
   "source": [
    "# Aufgabe 4\n",
    "## Variante 1"
   ]
  },
  {
   "cell_type": "code",
   "execution_count": null,
   "id": "6ec4d8fe",
   "metadata": {},
   "outputs": [],
   "source": [
    "user_sekunden = int(input(\"Geben Sie bitte die Zeitspanne in Sekunden an: \"))\n",
    "days = user_sekunden // 86400\n",
    "sec_rest = user_sekunden % 86400\n",
    "hours = sec_rest//3600\n",
    "sec_rest = user_sekunden %3600\n",
    "minutes = sec_rest //60\n",
    "seconds = sec_rest%60\n",
    "print (f\"Zeitpanne in: {days} days {hours} hours {minutes} minutes und {seconds} seconds.\")"
   ]
  },
  {
   "cell_type": "markdown",
   "id": "8121c0a7",
   "metadata": {},
   "source": [
    "## Variante 2"
   ]
  },
  {
   "cell_type": "code",
   "execution_count": null,
   "id": "334a656b",
   "metadata": {},
   "outputs": [],
   "source": [
    "import time\n",
    "\n",
    "user_sekunde = int(input(\"Geben Sie bitte die Zeitspanne in Sekunden an: \"))\n",
    "m, s = divmod(user_sekunde, 60)\n",
    "h, m = divmod(m, 60)\n",
    "d, h = divmod(h, 24)\n",
    "print (f\"Zeitpanne in: {d} days {h} hours {m} minutes und {s} seconds.\")"
   ]
  }
 ],
 "metadata": {
  "kernelspec": {
   "display_name": "Python 3 (ipykernel)",
   "language": "python",
   "name": "python3"
  },
  "language_info": {
   "codemirror_mode": {
    "name": "ipython",
    "version": 3
   },
   "file_extension": ".py",
   "mimetype": "text/x-python",
   "name": "python",
   "nbconvert_exporter": "python",
   "pygments_lexer": "ipython3",
   "version": "3.8.10"
  }
 },
 "nbformat": 4,
 "nbformat_minor": 5
}
