{
 "cells": [
  {
   "cell_type": "markdown",
   "id": "4aa442b4",
   "metadata": {},
   "source": [
    "# Aufgabe 1"
   ]
  },
  {
   "cell_type": "code",
   "execution_count": 1,
   "id": "1edae23e",
   "metadata": {},
   "outputs": [
    {
     "data": {
      "text/plain": [
       "'Wurst , Dr. Hans'"
      ]
     },
     "execution_count": 1,
     "metadata": {},
     "output_type": "execute_result"
    }
   ],
   "source": [
    "#1 Code review\n",
    "\n",
    "def get_name_plain ( given_name , surname ) :\n",
    "    return surname +  \" , \"  + given_name\n",
    "\n",
    "def get_name_dr ( given_name , surname ) :\n",
    "    return surname + \" , Dr. \" + given_name\n",
    "\n",
    "def get_name_prof_dr ( given_name , surname ) :\n",
    "    return surname + \" , Prof. Dr. \" + given_name\n",
    "\n",
    "def get_name_prof ( given_name , surname ) :\n",
    "    return surname + \" , Prof. \" + given_name\n",
    "\n",
    "#Ist so ein bisschen umständlich, weil man für Personen mit akademischem Titel extra jeweils andere Funktionen\n",
    "#aufrufen muss.\n",
    "#geht auch in einer Funktion:\n",
    "\n",
    "def get_name (given_name, title, surname):\n",
    "    ''' Takes parameters: name, surname and title\n",
    "        Returns name, surname and when given the title of a person.\n",
    "    '''\n",
    "    if title == 'Prof.' or 'Dr.' or 'Prof. Dr.':\n",
    "        return surname + ' , ' + title + ' ' + given_name\n",
    "    else:\n",
    "        return surname + \",\" + given_name\n",
    "    \n",
    "get_name ('Hans', 'Dr.', 'Wurst')"
   ]
  },
  {
   "cell_type": "markdown",
   "id": "93c067aa",
   "metadata": {},
   "source": [
    "# Aufgabe 2"
   ]
  },
  {
   "cell_type": "markdown",
   "id": "3ef45d26",
   "metadata": {},
   "source": [
    "#### <p>Es  liegen  die  Teilnehmerlisten  aller  Veranstaltungen  eines  Semesters  in  Form  von  Listen  der Matrikelnummern vor. Sie sollen ermitteln, wie viele Studierende in diesem Semester aktiv waren,d.h. an mindestens einer Veranstaltung teilgenommen haben.</p> \n",
    "<p> Set: Set sind opitmal um Daten zu bestätigen, ob eine Werte in der \"Gruppe\" \"set\" ist oder nicht. In diesen Beispiel überprüft man, ob die Studierende in der Veranstaltung waren oder nicht. </p>\n",
    "\n",
    "#### <p>Eine Funktion soll eine Liste von Ganzzahlen, einen String und einen Boolean zuruckgeben.</p> \n",
    "<p>Tuple: Tuple sind Sammlung von \"Objekten\" und in diesem Fall, braucht man nur eine Ausgabe von Infos.</p> \n",
    "\n",
    "#### <p>Eine Studie fragt das Monatseinkommen der Teilnehmer ab und Sie sollen das Medianeinkommenberechnen (dazu benotigen Sie die Werte in aufsteigender Reihenfolge</p> \n",
    "\n",
    "<p> List: da eine \"aufsteigender Reihenfolge\" nötig ist, ist List eine gut Option wegen der Veränderung Möglichkeit. Die Werte konnen nach der Eintrag manipulliert werden.</p>\n",
    "\n",
    "#### <p>Das Studienburo mochte die Daten aller Studierenden speichern und dabei ̈uber die Matrikelnummer auf den Namen eines Studierenden zugreifen</p> \n",
    "\n",
    "<p>Dic: Jede Studierende (value) hat nur eine Matrikelnummer (key). Das Zugriff auf Datei durch die Matrikelnummer vermeidet dopplet Output (Zwei identische Namen sind realistisch aber die Matrikelnummer nicht.).</p>"
   ]
  },
  {
   "cell_type": "markdown",
   "id": "aed0d59c",
   "metadata": {},
   "source": [
    "<p>Geben Sie jeweils für die Datenstrukturen Dictionary, Tuple und Set ein weiteres eigenes Beispiel an</p>\n",
    "<p>Tuple:</p> Waren die in einem Supermakt verkauft wurden.\n",
    "<p>Set:</p> Kontrolle über die Ausleihbarkeit eines Buchs in einer Bibliothek.\n",
    "<p>Dict:</p> Einordnung von Vitamine und ihre Auswirkungen im Körper."
   ]
  },
  {
   "cell_type": "markdown",
   "id": "70cc9ff6",
   "metadata": {},
   "source": [
    "# Aufgabe 3"
   ]
  },
  {
   "cell_type": "code",
   "execution_count": 2,
   "id": "3bc29846",
   "metadata": {},
   "outputs": [],
   "source": [
    "def substring(a, k):\n",
    "    \"\"\"\n",
    "    Ein Programm das allen Substrings von bestimmte Länger liefert.\n",
    "    :argument a = string\n",
    "    :argument k = Länge der Substrings\n",
    "    :print eine Liste mit allen Substrings und einen anderen mit denen einmaligen Werte\n",
    "    \n",
    "    \"\"\"\n",
    "    list_strings = []\n",
    "    output=[]\n",
    "    for i in range(len(a)):#die Länge des Wortes definiert das Loop\n",
    "        if i <= len(str(a[k:])):#hier wird die Länge der Substrings definiert\n",
    "            substring = a[i:i+k] # hier wird ein Substring des Wortes extrahiert\n",
    "            list_strings.append(substring)# und hier wird dieser in die Liste der Substrings eingefügt\n",
    "            if substring not in output:# Einzigartigkeit des Substrings prüfen\n",
    "                output.append(substring)\n",
    "                \n",
    "    print(f\"Input: {a}\")\n",
    "    print(f\"Alle Substrings: {list_strings}\")\n",
    "    print(f\"Einzigartige Substrings: {output}\")\n",
    "   "
   ]
  },
  {
   "cell_type": "code",
   "execution_count": 3,
   "id": "979072b5",
   "metadata": {},
   "outputs": [
    {
     "name": "stdout",
     "output_type": "stream",
     "text": [
      "Input: banana\n",
      "Alle Substrings: ['ban', 'ana', 'nan', 'ana']\n",
      "Einzigartige Substrings: ['ban', 'ana', 'nan']\n"
     ]
    }
   ],
   "source": [
    "substring(\"banana\", 3)"
   ]
  },
  {
   "cell_type": "markdown",
   "id": "c19da0b1",
   "metadata": {},
   "source": [
    "# Aufgabe 4"
   ]
  },
  {
   "cell_type": "markdown",
   "id": "bf413486",
   "metadata": {},
   "source": [
    "## a\n",
    "- Solange nicht alle Zwerge aus der Höhle raus sind:\n",
    "    - Falls es der erste Zwerg ist: Stelle dich in die Mitte vor die Höhle\n",
    "    - Falls nur Zwerge einer Farbe vor der Höhle stehen: Stelle dich rechts neben den letzten Zwerg rechts\n",
    "    - Falls zwei Farben vertreten sind: Stelle dich zwischen den letzten Zwerg, der die gleiche Hutfarbe wie der ganz links hat, und den ersten mit der anderen Hutfarbe\n",
    "    \n",
    "## c"
   ]
  },
  {
   "cell_type": "code",
   "execution_count": 3,
   "id": "5fe56334",
   "metadata": {},
   "outputs": [
    {
     "name": "stdout",
     "output_type": "stream",
     "text": [
      "['green', 'red', 'red', 'red', 'red', 'green', 'red', 'red', 'green', 'red']\n",
      "['green', 'green', 'green', 'red', 'red', 'red', 'red', 'red', 'red', 'red']\n"
     ]
    }
   ],
   "source": [
    "import random\n",
    "\n",
    "def generate_random_color():\n",
    "        \"\"\"Erzeugt zufällige Hutfarben, codiert als Zahlen \n",
    "        (1 codiert für rot, 2 codiert für grün).\n",
    "        Das ist so, weil die Hutfarben später auf die große grüne Wiese (eine Liste) kommen; \n",
    "        und die große grüne Wiese am Anfang mit Nullen (also integers!) aufgefüllt ist; \n",
    "        und man will ja keine Listen sowohl mit Integers als auch Strings befüllen, \n",
    "        auch wenn Python das nicht verbietet\"\"\"\n",
    "        coin_toss = random.randint(1,2) # Wählt zufällig eine der Zahlen 1 und 2 aus\n",
    "        return coin_toss\n",
    "\n",
    "def generate_random_dwarf_list(number):\n",
    "    \"\"\"Erstellt eine zufällige Liste von Zwergen samt Hutfarbe (als Zahl), Anzahl wird als Parameter übergeben\"\"\"\n",
    "    dwarf_list = []\n",
    "    for i in range(number):\n",
    "        dwarf_list.append(generate_random_color())\n",
    "    return dwarf_list\n",
    "\n",
    "# Dictionary für Zahlen-zu-Farben\n",
    "number_to_color_dict = {\n",
    "  1: \"red\",\n",
    "  2: \"green\"\n",
    "}\n",
    "\n",
    "def translate_to_color(number_of_dwarfs, green_grassland):\n",
    "    \"\"\"Übersetzt aus Listen (einmal den Zwergen in der Höhle, falls man testet; \n",
    "    einmal den sortierten Zwergen vor der Höhle) die Hutfarben,\n",
    "    weil die ja als Zahlen gespeichert werden. \n",
    "    Nimmt also eine Liste von Zahlen entgegen und gibt eine Liste von Hutfarben zurück\"\"\"\n",
    "    ret_grassland =[]\n",
    "    for i in range(number_of_dwarfs):\n",
    "        j = green_grassland[i]\n",
    "        ret_grassland.append(number_to_color_dict[j])\n",
    "    return ret_grassland    \n",
    "\n",
    "def generate_big_big_green_grassland_after_cave(len_dwarfs):\n",
    "    \"\"\"Das ist der vorläufige Platz vor der Höhle.\n",
    "    Die Funktion erstellt eine große große grüne Wiese, damit wir nicht in Verlegenheit kommen \n",
    "    wegen list index out of range oder so. Zurückgegeben wird ein Array, mit Nullen gefüllt,\n",
    "    dessen Felderanzahl deutlich größer ist, als die Anzahl der Zwerge.\"\"\"\n",
    "    big_big_green_grassland = [0] * (len_dwarfs * 4)\n",
    "    return big_big_green_grassland\n",
    "\n",
    "def remove_the_big_from_big_green_grassland(a_sorted_big_green_grassland):\n",
    "    \"\"\" Wirft alle Plätze mit Nullen (also leere Plätze, ohne Zwerge) aus der großen grünen Wiese raus.\n",
    "    Nimmt eine sortierte große große grüne Wiese entgegen und gibt eine Wiese zurück mit nur den Zwergen\"\"\"\n",
    "    ret_grassland = []\n",
    "    for i in range(len(a_sorted_big_green_grassland)):\n",
    "        if (a_sorted_big_green_grassland[i] != 0):\n",
    "            ret_grassland.append(a_sorted_big_green_grassland[i])\n",
    "    return ret_grassland\n",
    "\n",
    "def checkForColorChange(big_green_grassland, number_dwarfs):\n",
    "    \"\"\"Überprüft, ob auf der großen grünen Wiese zwei verschiedene Hutfarben existieren; \n",
    "    falls ja, wird True zurück gegeben, falls nein, wird False zurück gegeben\"\"\"\n",
    "    for i in range(number_dwarfs - 1):\n",
    "        if big_green_grassland[i] != big_green_grassland[0]:\n",
    "            if big_green_grassland[i] != 0:\n",
    "                return True\n",
    "    return False\n",
    "\n",
    "def findStartOfChange(big_green_grassland, number_dwarfs):\n",
    "    \"\"\"gibt bei einer großen grünen Wiese mit verschiedenen Hutfarben den Index des \n",
    "    ersten Zwerges mit anderer Hutfarbe zurück\"\"\"\n",
    "    for i in range(number_dwarfs - 1):\n",
    "        if big_green_grassland[i] != big_green_grassland[0]:\n",
    "            if big_green_grassland[i] != 0:\n",
    "                ret_index = i\n",
    "                break\n",
    "    return ret_index\n",
    "\n",
    "## Ich habe das alles ursprünglich mit insert() gemacht, bin aber nicht sicher, ob ich das darf\n",
    "## Das hier ist die Alternativ-Methode\n",
    "def dwarfs_make_way(big_grassland, startindex):\n",
    "    \"\"\"Alle Zwerge ab einschließlich einer Startposition (die des ersten Zwerges mit anderer Hutfarbe)\n",
    "    rücken ein Feld auf, sodass der neue Zwerg sich dazwischen stellen kann. \n",
    "    Überarbeitet die große grüne Wiese\"\"\"\n",
    "    pos = big_grassland[startindex]\n",
    "    while (big_grassland[startindex] != 0):\n",
    "        if big_grassland[pos] != 0:\n",
    "            pos += 1 # gehe einen Schritt nach rechts\n",
    "        else:\n",
    "            big_grassland[pos] = big_grassland[pos-1]\n",
    "            big_grassland[pos-1] = 0\n",
    "            pos -= 1\n",
    "\n",
    "def get_dwarfs_out_of_cave(number_of_dwarfs):\n",
    "    \"\"\"Die eigentliche Methode. Nimmt eine Anzahl an Zwergen entgegen und gibt eine nach Hutfarben sortierte\n",
    "    Liste an Zwergen zurück\"\"\"\n",
    "    dwarfs = generate_random_dwarf_list(number_of_dwarfs)\n",
    "    print(translate_to_color(number_of_dwarfs, dwarfs)) # Gibt die unsortierten Zwerge in der Höhle aus. \n",
    "    big_green_grassland = generate_big_big_green_grassland_after_cave(number_of_dwarfs)\n",
    "    for i in range(number_of_dwarfs):\n",
    "        if i == 0:\n",
    "            big_green_grassland[0] = dwarfs[0]\n",
    "        else:\n",
    "            if checkForColorChange(big_green_grassland, number_of_dwarfs):\n",
    "                startOfChange = findStartOfChange(big_green_grassland, number_of_dwarfs)\n",
    "                dwarfs_make_way(big_green_grassland, startOfChange) #statt insert()\n",
    "                big_green_grassland[startOfChange] = dwarfs[i] #statt insert()\n",
    "                #big_green_grassland.insert(startOfChange, dwarfs[i])\n",
    "            else:\n",
    "                big_green_grassland[i] = dwarfs[i] #statt insert()\n",
    "                #big_green_grassland.insert(i, dwarfs[i])\n",
    "    dict_input = remove_the_big_from_big_green_grassland(big_green_grassland)\n",
    "    return(translate_to_color(number_of_dwarfs, dict_input))\n",
    "\n",
    "print(get_dwarfs_out_of_cave(10))"
   ]
  },
  {
   "cell_type": "markdown",
   "id": "d7b510a8",
   "metadata": {},
   "source": [
    "# Aufgabe 5"
   ]
  },
  {
   "cell_type": "code",
   "execution_count": null,
   "id": "6c3381c7",
   "metadata": {},
   "outputs": [],
   "source": [
    "#5a Weihnachtsmann\n",
    "\n",
    "def magic_cave (dwarf_number, cave_number):\n",
    "    ''' Takes parameters dwarf number and cave number\n",
    "        Prints which numbered dwarf goes to which numbered cave.\n",
    "    '''\n",
    "    print ('Dwarf number', dwarf_number, 'goes to cave number', cave_number)\n",
    "    \n",
    "magic_cave ('0','1')\n",
    "\n",
    "    \n",
    "#5b triviale Lösung: Jeder Zwerg geht in die Höhle dessen Nummer er trägt\n",
    "def numbers_for_dwarfs (dwarf) :\n",
    "    ''' Takes the number of a dwarf and assigns him to the cave with the same number\n",
    "        Returns dwarf number and cave number.\n",
    "    '''\n",
    "    cave = dwarf\n",
    "    return (magic_cave(dwarf, dwarf))\n",
    "\n",
    "numbers_for_dwarfs (4)"
   ]
  },
  {
   "cell_type": "markdown",
   "id": "9481bc16",
   "metadata": {},
   "source": [
    "## 5c\n",
    "<p>Man nummeriert die Höhlen obwohl wir Informatiker sind) mal trotzdem zumindest im Geiste von 1 an (die Zwerge nicht! hier ist ein Zählen von Null an hochgradig nützlich).\n",
    "Man muss ja nur n-1 Höhlen besuchen; und das lässt sich mit log2(n) Zwergen bewerkstelligen:</p>\n",
    "<p>Zwerg 0 besucht alle Höhlen, wo die Binärdarstellung der Höhle an der Einerstelle (2^0) eine 1 hat.</p>\n",
    "<p>Zwerg 1 besucht alle Höhlen, wo die Binärdarstellung der Höhle an der Zweierstelle (2^1) eine 1 hat.</p>\n",
    "<p>Zwerg 2 besucht alle Höhlen, wo die Binärdarstellung der Höhle an der Viererstelle (2^2) eine 1 hat.</p>\n",
    "<p>...</p>\n",
    "<p>Zwerg n besucht alle Höhlen, wo die Binärdarstellung der Höhle an der (2^n)er-Stelle (2^n) eine 1 hat.</p>\n",
    "\n",
    "\n",
    "Demnach sind zum Beispiel Szenarien:\n",
    "\n",
    "**4 Höhlen (0,1,2,3), 2 Zwerge (0,1)**.\n",
    "\n",
    "Zwerg 0 geht in Höhle 0 und 2.\n",
    "\n",
    "Zwerg 1 geht in Höhle 1 und 2.\n",
    "\n",
    "<p>Hat sich nur die Mütze von Zwerg 0 gefärbt — Höhle 0</p>\n",
    "<p>Hat sich nur die Mütze von Zerg 1 gefärbt — Höhle 1</p>\n",
    "<p>Haben sich beide Mützen gefärbt — Höhle 2</p>\n",
    "<p>Hat sich keine Mütze gefärbt — Höhle 3</p>\n",
    "\n",
    "**8 Höhlen(0,1,2,3,4,5,6,7), 3 Zwerge (0,1,2)**\n",
    "<p>Zwerg 0 geht in die Höhlen (0,2,4,6)</p>\n",
    "<p>Zwerg 1 in Höhlen (1,2,5,6)</p>\n",
    "<p>Zwerg 2 in Höhlen (3,4,5,6,7)</p>\n",
    "<p>Hat sich nur die Mütze von Zwerg 0 gefärbt — Höhle 0</p>\n",
    "<p>Hat sich nur die Mütze von Zwerg 1 gefärbt — Höhle 1</p>\n",
    "<p>Hat sich nur die Mütze von Zwerg 2 gefärbt — Höhle 3</p>\n",
    "<p>Haben sich die Mützen von Zwergen 0 und 1 gefärbt (und nur die) — Höhle 2.</p>\n",
    "<p>Haben sich die Mützen von Zwergen 0 und 2 gefärbt (und nur die) — Höhle 4.</p>\n",
    "<p>Haben sich die Mützen von Zwergen 1 und 2 gefärbt (und nur die) — Höhle 5.</p>\n",
    "<p>Haben sich alle drei Mützen gefärbt - Höhle 6</p>\n",
    "<p>Hat sich keine Mütze gefärbt - Höhle 7</p>\n",
    "\n",
    "**Noch eine kurze Erklärung, warum log2(n) Zwerge garantiert immer reichen***\n",
    "<p>Da sich jede Zahl von 1 bis n-1 in Binär mit log2(n) Stellen darstellen lässt, gibt es für jede der Höhlen (0, ...,n-2; wobei die Zahlen jeweils für eine natürliche Zahl eins größer codieren) eine eindeutige Zwergenkombination, bei der sich die Hüte färben.\n",
    "Und die Höhle (von 1 aus gezählt) lässt sich wiederum durch das Umrechnen aus Binär in Dezimal herausfinden (haben sich beispielsweise die Hüte von den Zwergen 5, 3 und 1 gefärbt und nur deren Hüte, wissen wir, dass die Geschenke in Höhle 2^5 + 2^3 + 2^1 = 32+8+2=42 liegt)</p>\n",
    "<p>Da wir aber Höhlen von 0 bis n-1 haben (bzw von 1 bis n), weil wir n Höhlen haben, bleibt eine Höhle unbesucht.\n",
    "Das ist aber kein Problem: sind die Geschenke in einer der Höhlen, die die Zwerge besuchen, gibt es eine eindeutige Kombination von Zwergen, bei der sich die Hüte rot färben (und es ist immer mindestens ein Hut rot). </p>\n",
    "<p>Das heißt, wenn sich keiner der Hüte rot färbt, dann müssen die Geschenke in Höhle n (bzw n-1) liegen.</p>\n",
    "\n",
    "**Dazu gekommen, das zu implementieren, sind wir aber leider aus Zeitgründen nicht mehr**"
   ]
  }
 ],
 "metadata": {
  "kernelspec": {
   "display_name": "Python 3 (ipykernel)",
   "language": "python",
   "name": "python3"
  },
  "language_info": {
   "codemirror_mode": {
    "name": "ipython",
    "version": 3
   },
   "file_extension": ".py",
   "mimetype": "text/x-python",
   "name": "python",
   "nbconvert_exporter": "python",
   "pygments_lexer": "ipython3",
   "version": "3.8.10"
  }
 },
 "nbformat": 4,
 "nbformat_minor": 5
}
